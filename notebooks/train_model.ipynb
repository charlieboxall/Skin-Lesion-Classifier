{
 "cells": [
  {
   "cell_type": "code",
   "execution_count": null,
   "id": "bcd4ded7",
   "metadata": {},
   "outputs": [],
   "source": [
    "import numpy as np\n",
    "import tensorflow as tf\n",
    "from tensorflow.keras.models import Sequential\n",
    "from tensorflow.keras.layers import Conv2D, MaxPooling2D, Flaten, Dense, Dropout\n",
    "from tensorflow.keras.optimizers import Adam\n",
    "from tensorflow.keras.callbacks import EarlyStopping"
   ]
  },
  {
   "cell_type": "markdown",
   "id": "55f6b354",
   "metadata": {},
   "source": [
    "CNN will be used due to its ability to recognise patterns within images."
   ]
  },
  {
   "cell_type": "markdown",
   "id": "ffcc0117",
   "metadata": {},
   "source": [
    "Convolutional layers are the core building blocks that will examen the image. Each layer from 1-3 will become more complex and use a larger number of filters to detect wider variety of patterns and high level features."
   ]
  },
  {
   "cell_type": "markdown",
   "id": "4032b9c8",
   "metadata": {},
   "source": [
    "Pooling layers simpify the information from the convolutional layers."
   ]
  },
  {
   "cell_type": "markdown",
   "id": "f96eb710",
   "metadata": {},
   "source": [
    "Flatten layer prepares the data for the final classification. It takes the 3D output from the previous layers and flattens it into a single, 1D vector."
   ]
  },
  {
   "cell_type": "markdown",
   "id": "6f3c178c",
   "metadata": {},
   "source": [
    "Dense layers are the final decision making layers. \"Dense(128, ...), this Dense layer has 128 neurons - each neuron is connected to all neurons from the previous flatten layer. These neurons learn to combine the features that have been extracted from the convolutional layers to make sense of the data."
   ]
  },
  {
   "cell_type": "markdown",
   "id": "c028760c",
   "metadata": {},
   "source": [
    "The dropout layer aims to prevent overfitting. If the dropout rate is 0.5, during training it will randomly disable 50% of the neurons in the previous layer to force the network to learn more robust features. It also prevents it from relying on a small number of neurons to make a prediction."
   ]
  },
  {
   "cell_type": "code",
   "execution_count": 2,
   "id": "4c725377",
   "metadata": {},
   "outputs": [],
   "source": [
    "# Function to build the CNN\n",
    "def build_cnn(input_shape, num_classes):\n",
    "    model = Sequential([\n",
    "        # First Convolutional layer so small number of filters\n",
    "        Conv2D(32, (3, 3), activation=\"relu\", input_shape=input_shape),\n",
    "        MaxPooling2D((2, 2)),\n",
    "\n",
    "        # Second Convolutional layer - double filters\n",
    "        Conv2D(64, (3, 3), activation=\"relu\"),\n",
    "        MaxPooling2D((2, 2)),\n",
    "\n",
    "        # Third Convolutional layer - double filters again\n",
    "        Conv2D(128, (3, 3), activation=\"relu\"),\n",
    "        MaxPooling2D((2, 2)),\n",
    "\n",
    "        Flaten(),\n",
    "        Dense(128, activation=\"relu\"),\n",
    "        Dropout(0.5),\n",
    "        Dense(num_classes, activation=\"softmax\")\n",
    "    ])\n",
    "\n",
    "    return model"
   ]
  }
 ],
 "metadata": {
  "kernelspec": {
   "display_name": "Python 3",
   "language": "python",
   "name": "python3"
  },
  "language_info": {
   "codemirror_mode": {
    "name": "ipython",
    "version": 3
   },
   "file_extension": ".py",
   "mimetype": "text/x-python",
   "name": "python",
   "nbconvert_exporter": "python",
   "pygments_lexer": "ipython3",
   "version": "3.12.10"
  }
 },
 "nbformat": 4,
 "nbformat_minor": 5
}
