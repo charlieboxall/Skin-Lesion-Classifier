{
 "cells": [
  {
   "cell_type": "code",
   "execution_count": 1,
   "id": "1c6adcd3",
   "metadata": {},
   "outputs": [],
   "source": [
    "import pandas as pd\n",
    "import numpy as np\n",
    "from PIL import Image\n",
    "from sklearn.model_selection import train_test_split\n",
    "from sklearn.preprocessing import LabelEncoder"
   ]
  },
  {
   "cell_type": "code",
   "execution_count": 2,
   "id": "036511c8",
   "metadata": {},
   "outputs": [],
   "source": [
    "md_path = \"../data/raw/skin-cancer-mnist-ham10000/HAM10000_metadata.csv\""
   ]
  },
  {
   "cell_type": "code",
   "execution_count": 3,
   "id": "b309c0e6",
   "metadata": {},
   "outputs": [],
   "source": [
    "md = pd.read_csv(md_path)"
   ]
  },
  {
   "cell_type": "code",
   "execution_count": null,
   "id": "9522e32b",
   "metadata": {},
   "outputs": [],
   "source": [
    "# Load and preprocess images\n",
    "images = []\n",
    "img_size = 128"
   ]
  }
 ],
 "metadata": {
  "kernelspec": {
   "display_name": "Python 3",
   "language": "python",
   "name": "python3"
  },
  "language_info": {
   "codemirror_mode": {
    "name": "ipython",
    "version": 3
   },
   "file_extension": ".py",
   "mimetype": "text/x-python",
   "name": "python",
   "nbconvert_exporter": "python",
   "pygments_lexer": "ipython3",
   "version": "3.13.7"
  }
 },
 "nbformat": 4,
 "nbformat_minor": 5
}
