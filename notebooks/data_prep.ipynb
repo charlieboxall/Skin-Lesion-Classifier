{
 "cells": [
  {
   "cell_type": "code",
   "execution_count": 2,
   "id": "1c6adcd3",
   "metadata": {},
   "outputs": [],
   "source": [
    "import pandas as pd\n",
    "import numpy as np\n",
    "from PIL import Image\n",
    "from sklearn.model_selection import train_test_split\n",
    "from sklearn.preprocessing import LabelEncoder\n",
    "import os"
   ]
  },
  {
   "cell_type": "code",
   "execution_count": 3,
   "id": "036511c8",
   "metadata": {},
   "outputs": [],
   "source": [
    "md_path = \"../data/raw/skin-cancer-mnist-ham10000/HAM10000_metadata.csv\"\n",
    "img_path_p1 = \"../data/raw/skin-cancer-mnist-ham10000/HAM10000_images_part_1\"\n",
    "img_path_p2 = \"../data/raw/skin-cancer-mnist-ham10000/HAM10000_images_part_2\""
   ]
  },
  {
   "cell_type": "code",
   "execution_count": 4,
   "id": "b309c0e6",
   "metadata": {},
   "outputs": [],
   "source": [
    "md = pd.read_csv(md_path)"
   ]
  },
  {
   "cell_type": "code",
   "execution_count": 5,
   "id": "11ecba2a",
   "metadata": {},
   "outputs": [],
   "source": [
    "# Function to add path column to metadata\n",
    "def get_image_path(img_id):\n",
    "    path_p1 = os.path.join(img_path_p1 + f\"/{img_id}.jpg\")\n",
    "    path_p2 = os.path.join(img_path_p2 + f\"/{img_id}.jpg\")\n",
    "\n",
    "    if os.path.exists(path_p1):\n",
    "        # Image in part 1 folder\n",
    "        return path_p1\n",
    "    elif os.path.exists(path_p2):\n",
    "        # Image in part 2 folder\n",
    "        return path_p2\n",
    "    \n",
    "    # Image doesn't exist\n",
    "    return None"
   ]
  },
  {
   "cell_type": "code",
   "execution_count": 6,
   "id": "c5e0396c",
   "metadata": {},
   "outputs": [
    {
     "name": "stdout",
     "output_type": "stream",
     "text": [
      "0    ../data/raw/skin-cancer-mnist-ham10000/HAM1000...\n",
      "1    ../data/raw/skin-cancer-mnist-ham10000/HAM1000...\n",
      "2    ../data/raw/skin-cancer-mnist-ham10000/HAM1000...\n",
      "3    ../data/raw/skin-cancer-mnist-ham10000/HAM1000...\n",
      "4    ../data/raw/skin-cancer-mnist-ham10000/HAM1000...\n",
      "Name: path, dtype: object\n"
     ]
    }
   ],
   "source": [
    "# Apply all image paths to metadata\n",
    "# and filter any where path wasn't found\n",
    "\n",
    "md[\"path\"] = md[\"image_id\"].apply(get_image_path)\n",
    "md.dropna(subset=[\"path\"], inplace=True)\n",
    "\n",
    "print(md.head()[\"path\"])"
   ]
  },
  {
   "cell_type": "code",
   "execution_count": 7,
   "id": "9522e32b",
   "metadata": {},
   "outputs": [],
   "source": [
    "# Load and preprocess images\n",
    "images = []\n",
    "img_size = 128\n",
    "\n",
    "for path in md[\"path\"]:\n",
    "    img = Image.open(path)\n",
    "    img = img.resize((img_size, img_size)) # Make image square\n",
    "    images.append(np.array(img))\n",
    "\n",
    "images = np.array(images)"
   ]
  },
  {
   "cell_type": "code",
   "execution_count": 8,
   "id": "40efc858",
   "metadata": {},
   "outputs": [
    {
     "name": "stdout",
     "output_type": "stream",
     "text": [
      "{0, 1, 2, 3, 4, 5, 6}\n"
     ]
    }
   ],
   "source": [
    "# Encode the disease labels into numerical format\n",
    "le = LabelEncoder()\n",
    "md[\"label_numeric\"] = le.fit_transform(md[\"dx\"])\n",
    "print(set(md[\"label_numeric\"]))\n",
    "\n",
    "# All labels in a numpy array\n",
    "labels = md[\"label_numeric\"].values\n"
   ]
  },
  {
   "cell_type": "markdown",
   "id": "89ba0f5f",
   "metadata": {},
   "source": [
    "For the Train-Test split I will use a 70-15-15 split, 70% for train split, 15% for validation and 15% for test.\n",
    "\n",
    "stratify parameter will address the imbalance problem of this dataset as it will ensure that the proportion of each class in the split is the same as the original dataset."
   ]
  },
  {
   "cell_type": "code",
   "execution_count": 9,
   "id": "2fcf726c",
   "metadata": {},
   "outputs": [],
   "source": [
    "# Split Train to 70 and Temp (val + test) to 30\n",
    "x_train, x_temp, y_train, y_temp = train_test_split(\n",
    "    images,\n",
    "    labels,\n",
    "    test_size=0.3,\n",
    "    random_state = 37, # Set for reproducibility and testing\n",
    "    stratify = labels\n",
    ")\n",
    "\n",
    "# Split Temp (30) to Validation (15) and Testing (15)\n",
    "x_val, x_test, y_val, y_test = train_test_split(\n",
    "    x_temp,\n",
    "    y_temp,\n",
    "    test_size = 0.5,\n",
    "    random_state = 37,\n",
    "    stratify = y_temp \n",
    ")"
   ]
  },
  {
   "cell_type": "code",
   "execution_count": 10,
   "id": "8d5a043c",
   "metadata": {},
   "outputs": [
    {
     "name": "stdout",
     "output_type": "stream",
     "text": [
      "(7010, 128, 128, 3)\n",
      "(1502, 128, 128, 3)\n",
      "(1503, 128, 128, 3)\n"
     ]
    }
   ],
   "source": [
    "print(x_train.shape)\n",
    "print(x_val.shape)\n",
    "print(x_test.shape)"
   ]
  },
  {
   "cell_type": "markdown",
   "id": "dfc39068",
   "metadata": {},
   "source": [
    "Considering the dataset comprises of ~10,000 images, these numbers indicate the dataset has been split correctly.\n",
    "\n",
    "~7000 = 70% Train\n",
    "\n",
    "~1500 = 15% Validate\n",
    "\n",
    "~1500 = 15% Test"
   ]
  },
  {
   "cell_type": "code",
   "execution_count": 16,
   "id": "6fcfc54b",
   "metadata": {},
   "outputs": [
    {
     "name": "stdout",
     "output_type": "stream",
     "text": [
      "Saving preprocessed data...\n",
      "Preprocessed data successfully saved.\n"
     ]
    }
   ],
   "source": [
    "# Save preprocessed data\n",
    "num_classes = len(set(md[\"dx\"]))\n",
    "print(\"Saving preprocessed data...\")\n",
    "np.save(\"../data/processed/x_train.npy\", x_train)\n",
    "np.save(\"../data/processed/y_train.npy\", y_train)\n",
    "np.save(\"../data/processed/x_val.npy\", x_val)\n",
    "np.save(\"../data/processed/y_val.npy\", y_val)\n",
    "np.save(\"../data/processed/x_test.npy\", x_test)\n",
    "np.save(\"../data/processed/y_test.npy\", y_test)\n",
    "print(\"Preprocessed data successfully saved.\")\n",
    "\n"
   ]
  },
  {
   "cell_type": "code",
   "execution_count": null,
   "id": "2a740fa3",
   "metadata": {},
   "outputs": [],
   "source": []
  }
 ],
 "metadata": {
  "kernelspec": {
   "display_name": "Python 3",
   "language": "python",
   "name": "python3"
  },
  "language_info": {
   "codemirror_mode": {
    "name": "ipython",
    "version": 3
   },
   "file_extension": ".py",
   "mimetype": "text/x-python",
   "name": "python",
   "nbconvert_exporter": "python",
   "pygments_lexer": "ipython3",
   "version": "3.13.7"
  }
 },
 "nbformat": 4,
 "nbformat_minor": 5
}
