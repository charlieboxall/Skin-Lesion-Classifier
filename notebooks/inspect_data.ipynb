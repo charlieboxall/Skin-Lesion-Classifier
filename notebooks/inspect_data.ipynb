{
 "cells": [
  {
   "cell_type": "code",
   "execution_count": 3,
   "id": "c5b474d4",
   "metadata": {},
   "outputs": [],
   "source": [
    "import pandas as pd"
   ]
  },
  {
   "cell_type": "code",
   "execution_count": 7,
   "id": "b22b9095",
   "metadata": {},
   "outputs": [],
   "source": [
    "md_path = \"../data/raw/skin-cancer-mnist-ham10000/HAM10000_metadata.csv\""
   ]
  },
  {
   "cell_type": "code",
   "execution_count": 11,
   "id": "4a3b41ea",
   "metadata": {},
   "outputs": [
    {
     "name": "stdout",
     "output_type": "stream",
     "text": [
      "     lesion_id      image_id   dx dx_type   age   sex localization\n",
      "0  HAM_0000118  ISIC_0027419  bkl   histo  80.0  male        scalp\n",
      "1  HAM_0000118  ISIC_0025030  bkl   histo  80.0  male        scalp\n",
      "2  HAM_0002730  ISIC_0026769  bkl   histo  80.0  male        scalp\n",
      "3  HAM_0002730  ISIC_0025661  bkl   histo  80.0  male        scalp\n",
      "4  HAM_0001466  ISIC_0031633  bkl   histo  75.0  male          ear\n",
      "         lesion_id      image_id     dx dx_type   age     sex localization\n",
      "10010  HAM_0002867  ISIC_0033084  akiec   histo  40.0    male      abdomen\n",
      "10011  HAM_0002867  ISIC_0033550  akiec   histo  40.0    male      abdomen\n",
      "10012  HAM_0002867  ISIC_0033536  akiec   histo  40.0    male      abdomen\n",
      "10013  HAM_0000239  ISIC_0032854  akiec   histo  80.0    male         face\n",
      "10014  HAM_0003521  ISIC_0032258    mel   histo  70.0  female         back\n"
     ]
    }
   ],
   "source": [
    "# Read metadata in\n",
    "md = pd.read_csv(md_path)\n",
    "print(md.head())\n",
    "print(md.tail())"
   ]
  },
  {
   "cell_type": "code",
   "execution_count": 10,
   "id": "22c12713",
   "metadata": {},
   "outputs": [
    {
     "name": "stdout",
     "output_type": "stream",
     "text": [
      "dx\n",
      "nv       6705\n",
      "mel      1113\n",
      "bkl      1099\n",
      "bcc       514\n",
      "akiec     327\n",
      "vasc      142\n",
      "df        115\n",
      "Name: count, dtype: int64\n"
     ]
    }
   ],
   "source": [
    "# Check classes\n",
    "print(md[\"dx\"].value_counts())"
   ]
  },
  {
   "cell_type": "markdown",
   "id": "ef2e0280",
   "metadata": {},
   "source": [
    "Clear imbalance of data, so to approach this issue I will use oversampling to duplicate images from the minority classes."
   ]
  }
 ],
 "metadata": {
  "kernelspec": {
   "display_name": "Python 3",
   "language": "python",
   "name": "python3"
  },
  "language_info": {
   "codemirror_mode": {
    "name": "ipython",
    "version": 3
   },
   "file_extension": ".py",
   "mimetype": "text/x-python",
   "name": "python",
   "nbconvert_exporter": "python",
   "pygments_lexer": "ipython3",
   "version": "3.13.7"
  }
 },
 "nbformat": 4,
 "nbformat_minor": 5
}
